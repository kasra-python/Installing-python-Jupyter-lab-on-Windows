{
 "cells": [
  {
   "cell_type": "markdown",
   "id": "6ad7c54a-3fb0-4a98-a883-b37926e4b2ca",
   "metadata": {},
   "source": [
    "# Installing and setting up Python and Jupyter on Windows"
   ]
  },
  {
   "cell_type": "markdown",
   "id": "36e7f46c-d33b-4efb-8d41-ee9cf29422ba",
   "metadata": {},
   "source": [
    "## Installing Python"
   ]
  },
  {
   "cell_type": "markdown",
   "id": "f5161abe-0057-4277-9932-2c27656f1979",
   "metadata": {},
   "source": [
    "* First, download the desired and appropriate version of your operating system from the site www.python.org , Be sure to choose stable released versions, not pre-released versions, because pre-released versions may still have bugs.\n",
    "\n",
    "  When installing, be sure to enable the **“Add Python to PATH”** option.\n",
    "\n",
    "  The default installation path for Python, libraries, etc. will usually be something like this. Remember it. All installed versions of Python will be installed in this path and in separate folders.\n",
    "  ```\n",
    "  C:\\Users\\your user name\\AppData\\Local\\Programs\\Python\n",
    "  ```\n",
    "  You can see where Python is installed in cmd with the following command:\n",
    "  ```\n",
    "  C:\\Users\\*** >where python\n",
    "  C:\\Users\\*** \\AppData\\Local\\Programs\\Python\\Python313\\python.exe\n",
    "  C:\\Users\\*** \\AppData\\Local\\Programs\\Python\\Python311\\python.exe\n",
    "  C:\\Users\\*** \\AppData\\Local\\Programs\\Python\\Python310\\python.exe\n",
    "  C:\\Users\\*** \\AppData\\Local\\Microsoft\\WindowsApps\\python.exe\n",
    "\n",
    "  ```"
   ]
  },
  {
   "cell_type": "markdown",
   "id": "53355d15-36aa-49fd-8bc7-c6e6dd9a94c7",
   "metadata": {},
   "source": [
    "> We can install multiple versions of Python and use whichever one is compatible with our project's libraries, because some libraries are only compatible with a specific version of Python."
   ]
  },
  {
   "cell_type": "markdown",
   "id": "ea6d9440-fc49-4817-bcfc-51a435f433e8",
   "metadata": {},
   "source": [
    "If you have multiple Pythons on your system, one of them will always be your default Python. With the following **cmd**, we can find out which Pythons are installed and which one is the default Python.\n",
    "```\n",
    "cmd\n",
    "PS C:\\Windows\\System32> py -0\n",
    " -V:3.13 *        Python 3.13 (64-bit)\n",
    " -V:3.11          Python 3.11 (64-bit)\n",
    " -V:3.10          Python 3.10 (64-bit)\n",
    "```\n",
    "If we want to run Python with a specific version or install a library on it, we use the following command in cmd. Otherwise, the libraries will be installed in the default Python path.\n",
    "```\n",
    "PS C:\\Windows\\System32> py -3.10 -m pip install --upgrade pip (for example) \n",
    "```\n",
    "Also, the libraries will be installed in the following path.\n",
    "```\n",
    "C:\\Users\\your user name\\AppData\\Local\\Programs\\Python\\Python[xxx]\\Lib\\site-packages\n",
    "\n",
    "```\n",
    "To set a specific version of Python as the default Python for Windows, you must go to **Edit the system environment variables** and in the **Environment variables section** , select the **path** option from the **user variables for xxx** section and move the desired Python installation path up to the first priority of Windows."
   ]
  },
  {
   "cell_type": "markdown",
   "id": "10c31597-8f2e-401f-90a7-d0e0e99f3b61",
   "metadata": {},
   "source": [
    "## Installing libraries in Python - Installing jupyter lab"
   ]
  },
  {
   "cell_type": "markdown",
   "id": "479a235b-fd5f-429a-b87a-e7be9cd56068",
   "metadata": {},
   "source": [
    "* Now with the following command we can install any library we need, here I am installing Jupiter lab library which is a code editor for Python. We can use Jupiter notebook which is lighter than lab but has fewer features.\n",
    "```\n",
    "PS C:\\Windows\\System32> pip install jupyter lab\n",
    "\n",
    "```\n",
    "This command will install the desired library in the default Python installation path. If you want to install Python with a specific version in the installation path, we use the following command.\n",
    "```\n",
    "PS C:\\Windows\\System32> py -3.10 -m pip install jupyter notebook \n",
    "\n",
    "```\n",
    "Before installing any package, it is better to make sure that our pip is upgraded to the latest version so that it can download and install the latest version of the desired library. pip is a tool in Python that allows you to install, uninstall  or upgrade Python packages by accessing the repository.\n",
    "```\n",
    "PS C:\\Windows\\System32> pip install --upgrade pip\n",
    "\n",
    "```\n",
    "Jupyter uses the default Python kernel to run the program, in order for our project to run in Jupyter with a specific kernel compatible with the project libraries, we need to change the Jupyter kernel. To do this, you need to install the **ipykernel** library, which is installed with the following command, note that if you are using a virtual environment, this library must be installed in the virtual environment and not the entire system. I will explain about the virtual environment later.\n",
    "```\n",
    "PS C:\\Windows\\System32> pip install ipykernel\n",
    "\n",
    "```\n",
    "Now, when you enter the Jupiter webbase environment with the *PS C:\\Windows\\System32> Jupiter lab* command in cmd or powershell, you can choose which Python kernel Jupyter will use to run your program.\n",
    "\n",
    "**Make Symbolic Link in Windows**\n",
    "\n",
    "After running Jupyter, only the files in the same directory where Jupyter is running are visible and we will not have access to other directories to call the saved files. To fix this problem, we can either move the required files to the Jupyter running directory or a better option is to create a link from the desired folder and move the link into the address of the Jupyter running directory. Be careful that any changes we make to the files because they are linked to the desired directory will be applied to the main files inside the desired folder,This method is especially useful when working with Jupyter in a Python virtual environment. To link a folder in Windows, we use the following command in cmd.\n",
    "```\n",
    "PS C:\\Windows\\System32> mklink /D data_link \"your desired directory\" for example \"D:\\datasets\\varicose\"\n",
    "\n",
    "```\n",
    "You must either do this in the Jupyter execution directory to create a link file called **link_data** in the Jupyter path, or after creating it in any path you want, move the link_data folder to the Jupyter execution directory\n",
    "> **! Notice** Note that creating a link must only be done in **cmd** with administrator access. (Run as administrator)"
   ]
  },
  {
   "cell_type": "markdown",
   "id": "28840993-9242-46ae-a476-f0eaddc2337e",
   "metadata": {},
   "source": [
    "## Installing and creating a virtual environment in Python\n"
   ]
  },
  {
   "cell_type": "markdown",
   "id": "9d207e20-e511-4582-ab2a-0279c047a6f4",
   "metadata": {},
   "source": [
    "* A virtual environment in Python is an isolated environment from the system. When we code a project with the required libraries of the same project, if we want to run that project on another system, we will have a problem because the required libraries of that project are probably not installed on the target system. To solve this problem, by creating a virtual environment, the packages used in the project can be frozen, an output file can be taken from them, and all the required libraries can be installed on the target system with one line of code so that the project runs properly on the new system. Another use of a virtual environment is to keep the entire system light and clean by installing different libraries for different projects. In general, it is better to create projects in a virtual environment. This way, we will also ensure the compatibility of the libraries with the desired version of Python.\n",
    "\n",
    "To create a virtual environment in Python, we must first install the virtualenv library.\n",
    "```\n",
    "PS C:\\Windows\\System32> pip install virtualenv\n",
    "\n",
    "```\n",
    "Now, open cmd in the desired directory where we want to run the virtual environment and create a virtual environment with the following command.\n",
    "```\n",
    "PS C:\\Windows\\System32> virtualenv env\n",
    "\n",
    "```\n",
    "This command creates a folder called env (it can be any name you want). Now we need to enter the env folder and then enter the Scripts folder and with the activate command our virtual environment is created and activated and ready to use. In cmd the beginning of the command line **(env)** indicates working in the virtual environment.\n",
    "```\n",
    "C:\\Users\\*****\\Desktop\\Data Engineering>cd env\\Scripts\n",
    "\n",
    "C:\\Users\\*****\\Desktop\\Data Engineering\\env\\Scripts>activate\n",
    "\n",
    "(env) C:\\Users\\*****\\Desktop\\Data Engineering\\env\\Scripts>\n",
    "\n",
    "(env) C:\\Users\\*****\\Desktop\\Data Engineering\\env\\Scripts>python -V\n",
    "Python 3.13.4\n",
    "\n",
    "```\n",
    "Now you can install any library you want in this environment without installing it in the main system path. Finally, you can deactivate the virtual environment with the following command.\n",
    "```\n",
    "(env) C:\\Users\\*****\\Desktop\\Data Engineering\\env\\Scripts>deactivate\n",
    "\n",
    "```\n",
    "If you want the virtual environment to run with a specific version of Python, we use the following command.\n",
    "```\n",
    "C:\\Users\\*****\\Desktop\\Data Engineering>py -3.10 -m virtualenv env\n",
    "\n",
    "C:\\Users\\*****\\Desktop\\Data Engineering>cd env\\Scripts\n",
    "\n",
    "C:\\Users\\*****\\Desktop\\Data Engineering\\env\\Scripts>activate\n",
    "\n",
    "(env) C:\\Users\\*****\\Desktop\\Data Engineering\\env\\Scripts>python --version\n",
    "Python 3.10.9\n",
    "\n",
    "```\n",
    "Now, with the help of the following command, you can see what libraries are installed in the virtual environment and get an output file from them.\n",
    "```\n",
    "C:\\Users\\Kasra Tehrani>py -3.11 -m pip freeze \n",
    "jupyterlab==4.4.2\n",
    "jupyterlab_pygments==0.3.0\n",
    "jupyterlab_server==2.27.3\n",
    "jupyterlab_widgets==3.0.15\n",
    "kaleido==0.2.1\n",
    "kiwisolver==1.4.8\n",
    "lab==8.4\n",
    "langcodes==3.5.0\n",
    "language_data==1.3.0\n",
    "Levenshtein==0.27.1\n",
    "\n",
    "(env) C:\\Users\\*****\\Desktop\\Data Engineering\\env\\Scripts>pip freeze > requirements.txt [name of file is optional]\n",
    "\n",
    "```\n",
    "And you can install these libraries on the target system by entering this command and easily run your project.\n",
    "```\n",
    "(env) C:\\Users\\*****\\Desktop\\Data Engineering\\env\\Scripts>pip install -r requirements.txt\n",
    "\n",
    "```\n",
    "The following command, like freeze, displays the list of installed packages in Python.\n",
    "```\n",
    "(env) C:\\Users\\*****\\Desktop\\Data Engineering\\env\\Scripts>pip list\n",
    "\n",
    "```\n",
    "You can also use the following command to see which packages need to be updated or are out of date.\n",
    "```\n",
    "(env) C:\\Users\\*****\\Desktop\\Data Engineering\\env\\Scripts>pip list -o\n",
    "\n",
    "Package                       Version   Latest    Type\n",
    "----------------------------- --------- --------- -----\n",
    "aiobotocore                   2.17.0    2.22.0    wheel\n",
    "aiohttp                       3.12.2    3.12.12   wheel\n",
    "argon2-cffi                   23.1.0    25.1.0    wheel\n",
    "attrs                         25.1.0    25.3.0    wheel\n",
    "Automat                       24.8.1    25.4.16   wheel\n",
    "\n",
    "```"
   ]
  },
  {
   "cell_type": "markdown",
   "id": "2181e3ce-551c-4167-8d5d-7fdc45571769",
   "metadata": {},
   "source": [
    "Good luck\n",
    "\n",
    "github: https://github.com/kasra-python\n",
    "\n",
    "Linkedin: www.linkedin.com/in/kasra-tehrani-a298\n",
    "\n",
    "Written by Kasra Tehrani"
   ]
  }
 ],
 "metadata": {
  "kernelspec": {
   "display_name": "Python 3 (ipykernel)",
   "language": "python",
   "name": "python3"
  },
  "language_info": {
   "codemirror_mode": {
    "name": "ipython",
    "version": 3
   },
   "file_extension": ".py",
   "mimetype": "text/x-python",
   "name": "python",
   "nbconvert_exporter": "python",
   "pygments_lexer": "ipython3",
   "version": "3.11.9"
  }
 },
 "nbformat": 4,
 "nbformat_minor": 5
}
